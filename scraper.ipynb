{
 "cells": [
  {
   "cell_type": "markdown",
   "metadata": {
    "pycharm": {
     "name": "#%% md\n"
    }
   },
   "source": [
    "## Coursera Review Scraper\n",
    "\n",
    "Sends requests to Coursera and parses out review information using open public API endpoints"
   ]
  },
  {
   "cell_type": "code",
   "execution_count": 87,
   "metadata": {
    "pycharm": {
     "name": "#%%\n"
    }
   },
   "outputs": [
    {
     "name": "stderr",
     "output_type": "stream",
     "text": [
      "Enabling notebook extension jupyter-js-widgets/extension...\n",
      "      - Validating: ok\n"
     ]
    }
   ],
   "source": [
    "!jupyter nbextension enable --py widgetsnbextension"
   ]
  },
  {
   "cell_type": "code",
   "execution_count": 88,
   "metadata": {
    "pycharm": {
     "name": "#%%\n"
    }
   },
   "outputs": [],
   "source": [
    "import requests\n",
    "import json\n",
    "import re"
   ]
  },
  {
   "cell_type": "code",
   "execution_count": 89,
   "metadata": {
    "pycharm": {
     "name": "#%%\n"
    }
   },
   "outputs": [],
   "source": [
    "url = \"https://www.coursera.org/graphqlBatch?opname=AllCourseReviews\""
   ]
  },
  {
   "cell_type": "code",
   "execution_count": 90,
   "metadata": {
    "pycharm": {
     "name": "#%%\n"
    }
   },
   "outputs": [],
   "source": [
    "payload = json.dumps([\n",
    "  {\n",
    "    \"operationName\": \"AllCourseReviews\",\n",
    "    \"variables\": {\n",
    "      \"courseId\": \"COURSE~P--h6zpNEeWYbg7p2_3OHQ\",\n",
    "      \"limit\": 25,\n",
    "      \"start\": \"0\",\n",
    "      \"ratingValues\": [\n",
    "        1,\n",
    "        2,\n",
    "        3,\n",
    "        4,\n",
    "        5\n",
    "      ],\n",
    "      \"productCompleted\": None,\n",
    "      \"sortByHelpfulVotes\": False\n",
    "    },\n",
    "    \"query\": \"query AllCourseReviews($courseId: String!, $limit: Int!, $start: String!, $ratingValues: [Int!], $productCompleted: Boolean, $sortByHelpfulVotes: Boolean!) {\\n  ProductReviewsV1Resource {\\n    reviews: byProduct(productId: $courseId, ratingValues: $ratingValues, limit: $limit, start: $start, productCompleted: $productCompleted, sortByHelpfulVotes: $sortByHelpfulVotes) {\\n      elements {\\n        ...ReviewFragment\\n        __typename\\n      }\\n      paging {\\n        total\\n        __typename\\n      }\\n      __typename\\n    }\\n    __typename\\n  }\\n}\\n\\nfragment ReviewFragment on ProductReviewsV1 {\\n  id\\n  reviewedAt\\n  rating\\n  isMarkedHelpful\\n  reviewText {\\n    ... on ProductReviewsV1_cmlMember {\\n      cml {\\n        dtdId\\n        value\\n        __typename\\n      }\\n      __typename\\n    }\\n    __typename\\n  }\\n  productCompleted\\n  mostHelpfulVoteCount\\n  users {\\n    id\\n    publicDemographics {\\n      fullName\\n      __typename\\n    }\\n    __typename\\n  }\\n  __typename\\n}\\n\"\n",
    "  }\n",
    "])"
   ]
  },
  {
   "cell_type": "code",
   "execution_count": 91,
   "metadata": {},
   "outputs": [],
   "source": [
    "headers = {\n",
    "  \"authority\": \"www.coursera.org\",\n",
    "  \"accept\": \"*/*\",\n",
    "  \"accept-language\": \"en\",\n",
    "  \"cache-control\": \"no-cache\",\n",
    "  \"content-type\": \"application/json\",\n",
    "  # \"cookie\": \"__204u=3366318425-1660148596477; __204r=; CSRF3-Token=1667484412.wNBElFPqBT3OKJ4T; __400v=ff7537ba-faf8-481c-a709-e53affba0225; __400vt=1666895389764; CSRF3-Token=1667759135.Ukq2xJ8MaoD4R3Np; __204u=8221909554-1660726719535\",\n",
    "  \"dnt\": \"1\",\n",
    "  \"operation-name\": \"AllCourseReviews\",\n",
    "  \"origin\": \"https://www.coursera.org\",\n",
    "  \"pragma\": \"no-cache\",\n",
    "  \"r2-app-version\": \"c508720f55bd0c5242fd129f6f68bfeded0825a0\",\n",
    "  \"referer\": \"https://www.coursera.org/learn/python-data/reviews?page=1&sort=recent\",\n",
    "  \"sec-ch-ua\": '\"Chromium\";v=\"106\", \"Google Chrome\";v=\"106\", \"Not;A=Brand\";v=\"99\"',\n",
    "  \"sec-ch-ua-mobile\": \"?0\",\n",
    "  \"sec-ch-ua-platform\": '\"Windows\"',\n",
    "  \"sec-fetch-dest\": \"empty\",\n",
    "  \"sec-fetch-mode\": \"cors\",\n",
    "  \"sec-fetch-site\": \"same-origin\",\n",
    "  \"user-agent\": \"Mozilla/5.0 (Windows NT 10.0; Win64; x64) AppleWebKit/537.36 (KHTML, like Gecko) Chrome/106.0.0.0 Safari/537.36\",\n",
    "  \"x-coursera-application\": \"reviews\",\n",
    "  \"x-coursera-version\": \"c508720f55bd0c5242fd129f6f68bfeded0825a0\",\n",
    "  \"x-csrf3-token\": \"1667484412.wNBElFPqBT3OKJ4T\"\n",
    "}"
   ]
  },
  {
   "cell_type": "code",
   "execution_count": 92,
   "metadata": {},
   "outputs": [],
   "source": [
    "response = requests.request(\"POST\", url, headers=headers, data=payload)"
   ]
  },
  {
   "cell_type": "code",
   "execution_count": 93,
   "metadata": {},
   "outputs": [],
   "source": [
    "def parse_reviews(api_response):\n",
    "    \"\"\"Parse the API response and return a list of reviews.\n",
    "    \n",
    "    Parameters\n",
    "    ----------\n",
    "    api_response : str\n",
    "        The API response.\n",
    "\n",
    "    Returns\n",
    "    -------\n",
    "    reviews : list\n",
    "        A list of reviews.\n",
    "    \"\"\"\n",
    "    reviews = []\n",
    "    for review in api_response[0][\"data\"][\"ProductReviewsV1Resource\"][\"reviews\"][\"elements\"]:\n",
    "        reviews.append({\n",
    "            \"id\": review[\"id\"],\n",
    "            \"reviewedAt\": review[\"reviewedAt\"],\n",
    "            \"rating\": review[\"rating\"],\n",
    "            \"isMarkedHelpful\": review[\"isMarkedHelpful\"],\n",
    "            \"reviewText\": review[\"reviewText\"][\"cml\"][\"value\"],\n",
    "            \"productCompleted\": review[\"productCompleted\"],\n",
    "            \"mostHelpfulVoteCount\": review[\"mostHelpfulVoteCount\"],\n",
    "            \"users\": review[\"users\"][\"publicDemographics\"][\"fullName\"],\n",
    "            \"user_id\": review[\"users\"][\"id\"]\n",
    "        })\n",
    "    return reviews  "
   ]
  },
  {
   "cell_type": "code",
   "execution_count": 94,
   "metadata": {},
   "outputs": [
    {
     "name": "stdout",
     "output_type": "stream",
     "text": [
      "<co-content><text>g​reat course , great tutor </text></co-content>\n",
      "<co-content><text>T​he  most uncomplicated, fun,  and helpful way that I found to learn python data structures</text></co-content>\n",
      "<co-content><text>​Дуже доступний курс для отримання бази знать по темі: 'Стурктури данних'.</text></co-content>\n",
      "<co-content><text>T​his is an excellent course irrespective of your previous knowledge in Python. Highly recommended for the people who are new to computer programming who work in different areas in science.</text></co-content>\n",
      "<co-content><text>it was very good taking on coursera and time  efficienlty anywhere ,everywhere. I recommend everyone to talk any course on coursera</text></co-content>\n",
      "<co-content><text>e​asy to follow ,intuitive assignment tool</text></co-content>\n",
      "<co-content><text>D​r. Chuck makes learnining programming fun. Good Course </text></co-content>\n",
      "<co-content><text>A​s a total beginner, I really benefited from this class. The length of every session is short and the loading isn't heavy. Dr. Chuck made Python very interesting and easy to understand! </text></co-content>\n",
      "<co-content><text>o​ne of the best course on python data structure</text><text></text></co-content>\n",
      "<co-content><text>E​xplanation is very good i learn fastly thanku for coursera team</text></co-content>\n",
      "<co-content><text>Really easy to follow! Very well organized! I liked a lot!!!</text></co-content>\n",
      "<co-content><text>T​his course is so useful, and It has powerful assignments. I learned a lot.</text></co-content>\n",
      "<co-content><text>v​ery good</text></co-content>\n",
      "<co-content><text>T​hanks alot for this course!</text><text>I​'ve really enjoyed it</text></co-content>\n",
      "<co-content><text>g​ood</text></co-content>\n",
      "<co-content><text>I really liked this course, because I learned a lot of basic things about data management with simple programming code. </text></co-content>\n",
      "<co-content><text>I think that if the course gave a few more programming assignments for each week it would really help students in getting a hang of the topics learnt</text></co-content>\n",
      "<co-content><text>Learning in a friendly environment</text></co-content>\n",
      "<co-content><text>Highly recommended !!</text></co-content>\n",
      "<co-content><text>T​he Python Course is Just Awesome!</text></co-content>\n",
      "<co-content><text>it was v​ery great course</text></co-content>\n",
      "<co-content><text>E​xcelent</text></co-content>\n",
      "<co-content><text>B​est Course fro Python</text></co-content>\n",
      "<co-content><text>B​est Course to learn python</text></co-content>\n",
      "<co-content><text>G​reat content taught by a great instructor. Love the way the content is arranged and taught by Dr. Chuck.</text></co-content>\n"
     ]
    }
   ],
   "source": [
    "reviews = parse_reviews(response.json())\n",
    "for review in reviews:\n",
    "    print(review[\"reviewText\"])"
   ]
  },
  {
   "cell_type": "code",
   "execution_count": null,
   "metadata": {},
   "outputs": [],
   "source": []
  }
 ],
 "metadata": {
  "kernelspec": {
   "display_name": "Python 3.9.12 ('coursera-review-scraper')",
   "language": "python",
   "name": "python3"
  },
  "language_info": {
   "codemirror_mode": {
    "name": "ipython",
    "version": 3
   },
   "file_extension": ".py",
   "mimetype": "text/x-python",
   "name": "python",
   "nbconvert_exporter": "python",
   "pygments_lexer": "ipython3",
   "version": "3.9.12"
  },
  "orig_nbformat": 4,
  "vscode": {
   "interpreter": {
    "hash": "4832e1345590d4f22c6ca8cdb5d5a7eda8edea7cdaadb55e14f1e477976bcfdf"
   }
  }
 },
 "nbformat": 4,
 "nbformat_minor": 2
}
