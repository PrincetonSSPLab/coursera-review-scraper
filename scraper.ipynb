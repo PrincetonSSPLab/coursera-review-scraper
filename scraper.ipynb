{
 "cells": [
  {
   "cell_type": "markdown",
   "metadata": {
    "pycharm": {
     "name": "#%% md\n"
    }
   },
   "source": [
    "## Coursera Review Scraper\n",
    "\n",
    "Sends requests to Coursera and parses out review information using open public API endpoints"
   ]
  },
  {
   "cell_type": "code",
   "execution_count": 4,
   "metadata": {
    "pycharm": {
     "name": "#%%\n"
    }
   },
   "outputs": [
    {
     "name": "stderr",
     "output_type": "stream",
     "text": [
      "Enabling notebook extension jupyter-js-widgets/extension...\n",
      "      - Validating: ok\n"
     ]
    }
   ],
   "source": [
    "!jupyter nbextension enable --py widgetsnbextension"
   ]
  },
  {
   "cell_type": "code",
   "execution_count": 5,
   "metadata": {
    "pycharm": {
     "name": "#%%\n"
    }
   },
   "outputs": [],
   "source": [
    "import requests\n",
    "import json\n",
    "import re\n",
    "\n",
    "import logging\n",
    "import time\n",
    "import os\n",
    "\n",
    "from concurrent.futures import ThreadPoolExecutor\n",
    "from tqdm.notebook import tqdm"
   ]
  },
  {
   "cell_type": "code",
   "execution_count": 6,
   "metadata": {
    "pycharm": {
     "name": "#%%\n"
    }
   },
   "outputs": [],
   "source": [
    "reviews_endpoint_url = \"https://www.coursera.org/graphqlBatch?opname=AllCourseReviews\"\n",
    "\n",
    "logger = logging.getLogger(__name__)\n",
    "logger.setLevel(logging.DEBUG)\n",
    "\n",
    "output_log_file_name = f\"{'coursera-reviews'}-{time.strftime('%Y%m%d-%H%M%S')}.log\"\n",
    "file_path = os.path.join(os.getcwd(), \"logs\", output_log_file_name)\n",
    "fh = logging.FileHandler(file_path)\n",
    "fh.setLevel(logging.DEBUG)\n",
    "logger.addHandler(fh)"
   ]
  },
  {
   "cell_type": "code",
   "execution_count": 7,
   "metadata": {},
   "outputs": [],
   "source": [
    "def parse_reviews(api_response):\n",
    "    \"\"\"Parse the API response and return a list of reviews.\n",
    "    \n",
    "    Parameters\n",
    "    ----------\n",
    "    api_response : dict\n",
    "        The API response.\n",
    "\n",
    "    Returns\n",
    "    -------\n",
    "    reviews : list\n",
    "        A list of reviews.\n",
    "    \"\"\"\n",
    "    reviews = []\n",
    "    for review in api_response[0][\"data\"][\"ProductReviewsV1Resource\"][\"reviews\"][\"elements\"]:\n",
    "        reviews.append({\n",
    "            \"id\": review[\"id\"],\n",
    "            \"reviewedAt\": review[\"reviewedAt\"],\n",
    "            \"rating\": review[\"rating\"],\n",
    "            \"isMarkedHelpful\": review[\"isMarkedHelpful\"],\n",
    "            \"reviewText\": review[\"reviewText\"][\"cml\"][\"value\"],\n",
    "            \"productCompleted\": review[\"productCompleted\"],\n",
    "            \"mostHelpfulVoteCount\": review[\"mostHelpfulVoteCount\"],\n",
    "            \"users\": review[\"users\"][\"publicDemographics\"][\"fullName\"],\n",
    "            \"user_id\": review[\"users\"][\"id\"]\n",
    "        })\n",
    "    return reviews  "
   ]
  },
  {
   "cell_type": "code",
   "execution_count": 8,
   "metadata": {},
   "outputs": [],
   "source": [
    "def create_payload(course_id, no_of_reviews, offset, rating_values=None, product_completed=None, sort_by_helpful_votes=False):\n",
    "    \"\"\"Create the payload for the API request.\n",
    "\n",
    "    Parameters\n",
    "    ----------\n",
    "    course_id : str\n",
    "        The course ID.\n",
    "\n",
    "    no_of_reviews : int\n",
    "        The number of reviews to fetch.\n",
    "\n",
    "    offset : int\n",
    "        The offset to start fetching reviews from.\n",
    "\n",
    "    rating_values : list, optional\n",
    "        The list of rating values to filter reviews by. Default is to not filter.\n",
    "\n",
    "    product_completed : bool, optional\n",
    "        Whether to filter reviews by people who completed the course. Default is to not filter.\n",
    "\n",
    "    sort_by_helpful_votes : bool, optional\n",
    "        Whether to sort the reviews by helpful votes. Default is to not sort.\n",
    "\n",
    "    Returns\n",
    "    -------\n",
    "    payload : dict\n",
    "        The payload for the API request.\n",
    "    \"\"\"\n",
    "    if rating_values is None:\n",
    "        rating_values = [1, 2, 3, 4, 5]\n",
    "    payload = [\n",
    "        {\n",
    "            \"operationName\": \"AllCourseReviews\",\n",
    "            \"variables\": {\n",
    "                \"courseId\": course_id,\n",
    "                \"limit\": no_of_reviews,\n",
    "                \"start\": f\"{offset}\",\n",
    "                \"ratingValues\": rating_values,\n",
    "                \"productCompleted\": product_completed,\n",
    "                \"sortByHelpfulVotes\": sort_by_helpful_votes\n",
    "            },\n",
    "            \"query\": \"query AllCourseReviews($courseId: String!, $limit: Int!, $start: String!, $ratingValues: [Int!], $productCompleted: Boolean, $sortByHelpfulVotes: Boolean!) {\\n  ProductReviewsV1Resource {\\n    reviews: byProduct(productId: $courseId, ratingValues: $ratingValues, limit: $limit, start: $start, productCompleted: $productCompleted, sortByHelpfulVotes: $sortByHelpfulVotes) {\\n      elements {\\n        ...ReviewFragment\\n        __typename\\n      }\\n      paging {\\n        total\\n        __typename\\n      }\\n      __typename\\n    }\\n    __typename\\n  }\\n}\\n\\nfragment ReviewFragment on ProductReviewsV1 {\\n  id\\n  reviewedAt\\n  rating\\n  isMarkedHelpful\\n  reviewText {\\n    ... on ProductReviewsV1_cmlMember {\\n      cml {\\n        dtdId\\n        value\\n        __typename\\n      }\\n      __typename\\n    }\\n    __typename\\n  }\\n  productCompleted\\n  mostHelpfulVoteCount\\n  users {\\n    id\\n    publicDemographics {\\n      fullName\\n      __typename\\n    }\\n    __typename\\n  }\\n  __typename\\n}\\n\"\n",
    "        }]\n",
    "    return payload\n"
   ]
  },
  {
   "cell_type": "code",
   "execution_count": 9,
   "metadata": {},
   "outputs": [],
   "source": [
    "def create_headers():\n",
    "    \"\"\"Create the headers for the API request.\"\"\"\n",
    "    headers = {\n",
    "        \"authority\": \"www.coursera.org\",\n",
    "        \"accept\": \"*/*\",\n",
    "        \"accept-language\": \"en\",\n",
    "        \"cache-control\": \"no-cache\",\n",
    "        \"content-type\": \"application/json\",\n",
    "        # \"cookie\": \"__204u=3366318425-1660148596477; __204r=; CSRF3-Token=1667484412.wNBElFPqBT3OKJ4T; __400v=ff7537ba-faf8-481c-a709-e53affba0225; __400vt=1666895389764; CSRF3-Token=1667759135.Ukq2xJ8MaoD4R3Np; __204u=8221909554-1660726719535\",\n",
    "        \"dnt\": \"1\",\n",
    "        \"operation-name\": \"AllCourseReviews\",\n",
    "        \"origin\": \"https://www.coursera.org\",\n",
    "        \"pragma\": \"no-cache\",\n",
    "        \"r2-app-version\": \"c508720f55bd0c5242fd129f6f68bfeded0825a0\",\n",
    "        # \"referer\": \"https://www.coursera.org/learn/python-data/reviews?page=1&sort=recent\",\n",
    "        \"sec-ch-ua\": '\"Chromium\";v=\"106\", \"Google Chrome\";v=\"106\", \"Not;A=Brand\";v=\"99\"',\n",
    "        \"sec-ch-ua-mobile\": \"?0\",\n",
    "        \"sec-ch-ua-platform\": '\"Windows\"',\n",
    "        \"sec-fetch-dest\": \"empty\",\n",
    "        \"sec-fetch-mode\": \"cors\",\n",
    "        \"sec-fetch-site\": \"same-origin\",\n",
    "        \"user-agent\": \"Mozilla/5.0 (Windows NT 10.0; Win64; x64) AppleWebKit/537.36 (KHTML, like Gecko) Chrome/106.0.0.0 Safari/537.36\",\n",
    "        \"x-coursera-application\": \"reviews\",\n",
    "        \"x-coursera-version\": \"c508720f55bd0c5242fd129f6f68bfeded0825a0\",\n",
    "        \"x-csrf3-token\": \"1667484412.wNBElFPqBT3OKJ4T\"\n",
    "    }\n",
    "    return headers"
   ]
  },
  {
   "cell_type": "code",
   "execution_count": 10,
   "metadata": {},
   "outputs": [],
   "source": [
    "def request_data(url, headers, payload):\n",
    "    \"\"\"Make a request to the API and return the response.\n",
    "\n",
    "    Parameters\n",
    "    ----------\n",
    "    url : str\n",
    "        The URL to make the request to.\n",
    "\n",
    "    headers : dict\n",
    "        The headers for the request.\n",
    "\n",
    "    payload : dict\n",
    "        The payload for the request.\n",
    "\n",
    "    Returns\n",
    "    -------\n",
    "    response : dict\n",
    "        The response from the API.\n",
    "    \"\"\"\n",
    "    response = requests.post(url, headers=headers, json=payload)\n",
    "    logger = logging.getLogger(__name__)\n",
    "    logger.debug(f\"Request status code: {response.status_code}\")\n",
    "    return response.json()"
   ]
  },
  {
   "cell_type": "code",
   "execution_count": 11,
   "metadata": {},
   "outputs": [],
   "source": [
    "def get_total_number_reviews_for_rating(course_id, rating_value):\n",
    "    \"\"\"Get the total number of reviews for a given rating value.\n",
    "\n",
    "    Parameters\n",
    "    ----------\n",
    "    course_id : str\n",
    "        The course ID.\n",
    "\n",
    "    rating_value : int\n",
    "        The rating value.\n",
    "\n",
    "    Returns\n",
    "    -------\n",
    "    total_number_reviews : int\n",
    "        The total number of reviews for the given rating value.\n",
    "    \"\"\"\n",
    "    payload = create_payload(course_id, 1, 0, rating_values=[rating_value])\n",
    "    headers = create_headers()\n",
    "    response = request_data(reviews_endpoint_url, headers, payload)\n",
    "    total_number_reviews = response[0]['data']['ProductReviewsV1Resource']['reviews']['paging']['total']\n",
    "    return total_number_reviews"
   ]
  },
  {
   "cell_type": "code",
   "execution_count": 12,
   "metadata": {},
   "outputs": [],
   "source": [
    "def get_all_course_reviews(course_id, limit=25, start=0, rating_values=None, product_completed=None, sort_by_helpful_votes=False):\n",
    "    \"\"\"Get all course reviews for a given course.\n",
    "\n",
    "    Parameters\n",
    "    ----------\n",
    "    course_id : str\n",
    "        The course ID.\n",
    "\n",
    "    limit : int, optional\n",
    "        The number of reviews to return per request. The default is 25.\n",
    "\n",
    "    start : int, optional\n",
    "        //The index of the first review to return. The default is 0.\n",
    "\n",
    "    rating_values : list, optional\n",
    "        The list of rating values to filter by. The default is [1, 2, 3, 4, 5].\n",
    "\n",
    "    product_completed : bool, optional\n",
    "        Whether to filter by product completed. The default is None.\n",
    "\n",
    "    sort_by_helpful_votes : bool, optional\n",
    "        Whether to sort by helpful votes. The default is False.\n",
    "\n",
    "    Returns\n",
    "    -------\n",
    "    reviews : list\n",
    "        A list of reviews.\n",
    "    \"\"\"\n",
    "    if rating_values is None:\n",
    "        rating_values = [1, 2, 3, 4, 5]\n",
    "\n",
    "    logger = logging.getLogger(__name__)\n",
    "    reviews = []\n",
    "    \n",
    "    for rating in rating_values:\n",
    "        total_reviews_for_rating = get_total_number_reviews_for_rating(course_id, rating)\n",
    "        logger.info(f\"Total number of reviews for rating {rating}: {total_reviews_for_rating} for course: {course_id}\")\n",
    "        # while there are remaining reviews to fetch keep fetching and appending it output list\n",
    "        # TODO make this fail safe in case of network issues or api stops sending data\n",
    "        while len(reviews) < total_reviews_for_rating:\n",
    "            payload = create_payload(course_id, limit, start, rating_values=[rating], product_completed=product_completed, sort_by_helpful_votes=sort_by_helpful_votes)\n",
    "            headers = create_headers()\n",
    "            response = request_data(reviews_endpoint_url, headers, payload)\n",
    "            reviews.extend(parse_reviews(response))\n",
    "            start += limit\n",
    "            logger.info(f\"Number of reviews fetched: {len(reviews)}\")\n",
    "\n",
    "    return reviews\n"
   ]
  },
  {
   "cell_type": "code",
   "execution_count": 13,
   "metadata": {},
   "outputs": [],
   "source": [
    "reviews = get_all_course_reviews(\"COURSE~P--h6zpNEeWYbg7p2_3OHQ\", rating_values=[3])"
   ]
  },
  {
   "cell_type": "code",
   "execution_count": 14,
   "metadata": {},
   "outputs": [
    {
     "name": "stdout",
     "output_type": "stream",
     "text": [
      "{1: 0, 2: 0, 3: 147, 4: 0, 5: 0}\n"
     ]
    }
   ],
   "source": [
    "rating = {1: 0, 2: 0, 3: 0, 4: 0, 5: 0}\n",
    "for review in reviews:\n",
    "    rating[review[\"rating\"]] += 1\n",
    "\n",
    "print(rating)"
   ]
  }
 ],
 "metadata": {
  "kernelspec": {
   "display_name": "Python 3.9.12 ('coursera-review-scraper')",
   "language": "python",
   "name": "python3"
  },
  "language_info": {
   "codemirror_mode": {
    "name": "ipython",
    "version": 3
   },
   "file_extension": ".py",
   "mimetype": "text/x-python",
   "name": "python",
   "nbconvert_exporter": "python",
   "pygments_lexer": "ipython3",
   "version": "3.9.12"
  },
  "orig_nbformat": 4,
  "vscode": {
   "interpreter": {
    "hash": "4832e1345590d4f22c6ca8cdb5d5a7eda8edea7cdaadb55e14f1e477976bcfdf"
   }
  }
 },
 "nbformat": 4,
 "nbformat_minor": 2
}
