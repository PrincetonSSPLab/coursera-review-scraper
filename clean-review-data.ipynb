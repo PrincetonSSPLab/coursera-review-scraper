{
 "cells": [
  {
   "attachments": {},
   "cell_type": "markdown",
   "metadata": {},
   "source": [
    "## Clean Review Data\n",
    "\n",
    "Cleans the generated review data."
   ]
  },
  {
   "cell_type": "code",
   "execution_count": 26,
   "metadata": {},
   "outputs": [],
   "source": [
    "import os\n",
    "import pandas as pd\n",
    "from bs4 import BeautifulSoup"
   ]
  },
  {
   "cell_type": "code",
   "execution_count": 27,
   "metadata": {},
   "outputs": [],
   "source": [
    "review_data_path = \"reviews\"\n",
    "review_data_files = [os.path.join(review_data_path, f) for f in os.listdir(review_data_path) if f.endswith(\".csv\")]"
   ]
  },
  {
   "cell_type": "code",
   "execution_count": 28,
   "metadata": {},
   "outputs": [],
   "source": [
    "# Read all the files and if they are empty add the header row to them\n",
    "headers = [\"id\", \"reviewedAt\", \"rating\", \"isMarkedHelpful\", \"reviewText\", \"productCompleted\", \"mostHelpfulVoteCount\", \"users\", \"user_id\"]\n",
    "for file_path in review_data_files:\n",
    "    df = pd.read_csv(file_path, header=None, names=headers)\n",
    "    if df.empty:\n",
    "        df.to_csv(file_path, index=False, header=headers)\n"
   ]
  },
  {
   "cell_type": "code",
   "execution_count": 29,
   "metadata": {},
   "outputs": [],
   "source": [
    "def clean_data(df):\n",
    "    \"\"\"Cleans review data by modifying column data inplace.\n",
    "\n",
    "    Parameters\n",
    "    ----------\n",
    "    df : pandas.DataFrame\n",
    "        The Dataframe to clean.\n",
    "    \"\"\"\n",
    "    expected_cols = [\"id\", \"reviewedAt\", \"rating\", \"isMarkedHelpful\", \"reviewText\", \"productCompleted\", \"mostHelpfulVoteCount\", \"users\", \"user_id\"]\n",
    "    for col in expected_cols:\n",
    "        if col not in df.columns:\n",
    "            raise ValueError(f\"Column {col} is not in the DataFrame.\")\n",
    "\n",
    "    df[\"reviewText\"] = df[\"reviewText\"].apply(clean_review_text)\n",
    "\n",
    "    df[\"mostHelpfulVoteCount\"] = df[\"mostHelpfulVoteCount\"].apply(clean_most_helpful_votes)\n",
    "    df[\"mostHelpfulVoteCount\"] = df[\"mostHelpfulVoteCount\"].astype(int)\n",
    "\n",
    "    df[\"isMarkedHelpful\"] = df[\"isMarkedHelpful\"].apply(clean_is_marked_helpful)\n",
    "    df[\"productCompleted\"] = df[\"productCompleted\"].apply(clean_product_completed)\n",
    "\n",
    "def clean_most_helpful_votes(vote):\n",
    "    \"\"\"Cleans most helpful vote number.\"\"\"\n",
    "    return 0 if pd.isnull(vote) else vote\n",
    "\n",
    "\n",
    "def clean_review_text(text):\n",
    "    \"\"\"Cleans review text.\"\"\"\n",
    "    # remove html tags \n",
    "    text = BeautifulSoup(text, \"html.parser\").get_text()\n",
    "    return text\n",
    "\n",
    "\n",
    "def clean_is_marked_helpful(text):\n",
    "    \"\"\"Cleans is marked helpful text.\"\"\"\n",
    "    return 1 if text == \"True\" else 0\n",
    "\n",
    "def clean_product_completed(text):\n",
    "    \"\"\"Cleans product completed text.\"\"\"\n",
    "    return 1 if text == \"True\" else 0"
   ]
  },
  {
   "cell_type": "code",
   "execution_count": 30,
   "metadata": {},
   "outputs": [],
   "source": [
    "for file_path in review_data_files:\n",
    "    df = pd.read_csv(file_path)\n",
    "    clean_data(df)\n",
    "    df.to_csv(file_path, index=False)"
   ]
  }
 ],
 "metadata": {
  "kernelspec": {
   "display_name": "coursera-review-scraper",
   "language": "python",
   "name": "python3"
  },
  "language_info": {
   "codemirror_mode": {
    "name": "ipython",
    "version": 3
   },
   "file_extension": ".py",
   "mimetype": "text/x-python",
   "name": "python",
   "nbconvert_exporter": "python",
   "pygments_lexer": "ipython3",
   "version": "3.9.12"
  },
  "orig_nbformat": 4,
  "vscode": {
   "interpreter": {
    "hash": "4832e1345590d4f22c6ca8cdb5d5a7eda8edea7cdaadb55e14f1e477976bcfdf"
   }
  }
 },
 "nbformat": 4,
 "nbformat_minor": 2
}
