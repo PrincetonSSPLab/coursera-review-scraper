{
 "cells": [
  {
   "attachments": {},
   "cell_type": "markdown",
   "metadata": {},
   "source": [
    "## Review Count Validator\n",
    "\n",
    "Checks that all courses were scraped and the correct number of reviews was gathered for each course."
   ]
  },
  {
   "cell_type": "code",
   "execution_count": 1,
   "metadata": {},
   "outputs": [],
   "source": [
    "import os\n",
    "import pandas as pd\n"
   ]
  },
  {
   "cell_type": "code",
   "execution_count": 12,
   "metadata": {},
   "outputs": [],
   "source": [
    "scraped_reviews_directory_path = \"reviews\"\n",
    "scraped_reviews_file_names = [file.split(\".\")[0] for file in os.listdir(scraped_reviews_directory_path)]\n"
   ]
  },
  {
   "cell_type": "code",
   "execution_count": 13,
   "metadata": {},
   "outputs": [],
   "source": [
    "course_info_with_reviews = pd.read_csv(\"course-info-with-reviews.csv\")"
   ]
  },
  {
   "cell_type": "code",
   "execution_count": 16,
   "metadata": {},
   "outputs": [
    {
     "data": {
      "text/html": [
       "<div>\n",
       "<style scoped>\n",
       "    .dataframe tbody tr th:only-of-type {\n",
       "        vertical-align: middle;\n",
       "    }\n",
       "\n",
       "    .dataframe tbody tr th {\n",
       "        vertical-align: top;\n",
       "    }\n",
       "\n",
       "    .dataframe thead th {\n",
       "        text-align: right;\n",
       "    }\n",
       "</style>\n",
       "<table border=\"1\" class=\"dataframe\">\n",
       "  <thead>\n",
       "    <tr style=\"text-align: right;\">\n",
       "      <th></th>\n",
       "      <th>instructor_name</th>\n",
       "      <th>instructor_subheading</th>\n",
       "      <th>instructor_external_link_href</th>\n",
       "      <th>instructor_external_link_text</th>\n",
       "      <th>instructor_image_src</th>\n",
       "      <th>instructor_page_url</th>\n",
       "      <th>course_name</th>\n",
       "      <th>course_slug</th>\n",
       "      <th>course_id</th>\n",
       "      <th>reviews_id</th>\n",
       "      <th>1_star_reviews</th>\n",
       "      <th>2_star_reviews</th>\n",
       "      <th>3_star_reviews</th>\n",
       "      <th>4_star_reviews</th>\n",
       "      <th>5_star_reviews</th>\n",
       "      <th>total_reviews</th>\n",
       "    </tr>\n",
       "  </thead>\n",
       "  <tbody>\n",
       "  </tbody>\n",
       "</table>\n",
       "</div>"
      ],
      "text/plain": [
       "Empty DataFrame\n",
       "Columns: [instructor_name, instructor_subheading, instructor_external_link_href, instructor_external_link_text, instructor_image_src, instructor_page_url, course_name, course_slug, course_id, reviews_id, 1_star_reviews, 2_star_reviews, 3_star_reviews, 4_star_reviews, 5_star_reviews, total_reviews]\n",
       "Index: []"
      ]
     },
     "execution_count": 16,
     "metadata": {},
     "output_type": "execute_result"
    }
   ],
   "source": [
    "# Check that all courses were scraped. Shown rows are missing.\n",
    "course_info_with_reviews.loc[~course_info_with_reviews[\"course_id\"].isin(scraped_reviews_file_names)]"
   ]
  },
  {
   "cell_type": "code",
   "execution_count": 19,
   "metadata": {},
   "outputs": [],
   "source": [
    "# Check that all courses have the correct number of reviews\n",
    "def get_total_number_reviews(filepath):\n",
    "    with open(filepath, encoding=\"utf-8\") as file:\n",
    "        return len(file.readlines()) - 1\n",
    "        \n",
    "course_info_with_reviews[\"total_scraped_reviews\"] = course_info_with_reviews[\"course_id\"].apply(lambda course_id: get_total_number_reviews(f\"{scraped_reviews_directory_path}/{course_id}.csv\"))"
   ]
  },
  {
   "cell_type": "code",
   "execution_count": 25,
   "metadata": {},
   "outputs": [
    {
     "data": {
      "text/html": [
       "<div>\n",
       "<style scoped>\n",
       "    .dataframe tbody tr th:only-of-type {\n",
       "        vertical-align: middle;\n",
       "    }\n",
       "\n",
       "    .dataframe tbody tr th {\n",
       "        vertical-align: top;\n",
       "    }\n",
       "\n",
       "    .dataframe thead th {\n",
       "        text-align: right;\n",
       "    }\n",
       "</style>\n",
       "<table border=\"1\" class=\"dataframe\">\n",
       "  <thead>\n",
       "    <tr style=\"text-align: right;\">\n",
       "      <th></th>\n",
       "      <th>instructor_name</th>\n",
       "      <th>instructor_subheading</th>\n",
       "      <th>instructor_external_link_href</th>\n",
       "      <th>instructor_external_link_text</th>\n",
       "      <th>instructor_image_src</th>\n",
       "      <th>instructor_page_url</th>\n",
       "      <th>course_name</th>\n",
       "      <th>course_slug</th>\n",
       "      <th>course_id</th>\n",
       "      <th>reviews_id</th>\n",
       "      <th>1_star_reviews</th>\n",
       "      <th>2_star_reviews</th>\n",
       "      <th>3_star_reviews</th>\n",
       "      <th>4_star_reviews</th>\n",
       "      <th>5_star_reviews</th>\n",
       "      <th>total_reviews</th>\n",
       "      <th>total_scraped_reviews</th>\n",
       "    </tr>\n",
       "  </thead>\n",
       "  <tbody>\n",
       "  </tbody>\n",
       "</table>\n",
       "</div>"
      ],
      "text/plain": [
       "Empty DataFrame\n",
       "Columns: [instructor_name, instructor_subheading, instructor_external_link_href, instructor_external_link_text, instructor_image_src, instructor_page_url, course_name, course_slug, course_id, reviews_id, 1_star_reviews, 2_star_reviews, 3_star_reviews, 4_star_reviews, 5_star_reviews, total_reviews, total_scraped_reviews]\n",
       "Index: []"
      ]
     },
     "execution_count": 25,
     "metadata": {},
     "output_type": "execute_result"
    }
   ],
   "source": [
    "course_info_with_reviews[course_info_with_reviews[\"total_reviews\"] > course_info_with_reviews[\"total_scraped_reviews\"]]"
   ]
  },
  {
   "cell_type": "code",
   "execution_count": 26,
   "metadata": {},
   "outputs": [],
   "source": [
    "course_info_with_reviews.drop(columns= [\"total_scraped_reviews\", \n",
    "                                        \"total_reviews\", \n",
    "                                        \"1_star_reviews\", \n",
    "                                        \"2_star_reviews\", \n",
    "                                        \"3_star_reviews\", \n",
    "                                        \"4_star_reviews\", \n",
    "                                        \"5_star_reviews\"], inplace=True)\n",
    "course_info_with_reviews.to_csv(\"course-info.csv\", index=False)"
   ]
  }
 ],
 "metadata": {
  "kernelspec": {
   "display_name": "coursera-review-scraper",
   "language": "python",
   "name": "python3"
  },
  "language_info": {
   "codemirror_mode": {
    "name": "ipython",
    "version": 3
   },
   "file_extension": ".py",
   "mimetype": "text/x-python",
   "name": "python",
   "nbconvert_exporter": "python",
   "pygments_lexer": "ipython3",
   "version": "3.9.12"
  },
  "orig_nbformat": 4,
  "vscode": {
   "interpreter": {
    "hash": "4832e1345590d4f22c6ca8cdb5d5a7eda8edea7cdaadb55e14f1e477976bcfdf"
   }
  }
 },
 "nbformat": 4,
 "nbformat_minor": 2
}
