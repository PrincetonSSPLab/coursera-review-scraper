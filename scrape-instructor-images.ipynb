{
 "cells": [
  {
   "attachments": {},
   "cell_type": "markdown",
   "metadata": {},
   "source": [
    "## Scrape Insturctor Images\n",
    "\n",
    "Downloads images of instructors."
   ]
  },
  {
   "cell_type": "code",
   "execution_count": null,
   "metadata": {},
   "outputs": [],
   "source": [
    "import pandas as pd\n",
    "import requests\n",
    "import os\n",
    "\n",
    "from tqdm import tqdm\n",
    "from concurrent.futures import ThreadPoolExecutor"
   ]
  },
  {
   "cell_type": "code",
   "execution_count": null,
   "metadata": {},
   "outputs": [],
   "source": [
    "instructor_image_output_directory = \"instructor-images\""
   ]
  },
  {
   "cell_type": "code",
   "execution_count": null,
   "metadata": {},
   "outputs": [],
   "source": [
    "def tqdm_threadpool_map(func, iterable, no_threads, iterable_length, *args):\n",
    "    \"\"\"A threadpool map function that shows a progress bar.\n",
    "\n",
    "    Parameters\n",
    "    ----------\n",
    "    func : function\n",
    "        The function to apply to each element of the iterable.\n",
    "\n",
    "    iterable : iterable\n",
    "        The iterable to apply the function to.\n",
    "\n",
    "    no_threads : int\n",
    "        The number of threads to use.\n",
    "\n",
    "    iterable_length : int\n",
    "        The length of the iterable.\n",
    "\n",
    "    *args : list\n",
    "        The list of arguments to pass to the function.\n",
    "\n",
    "    Returns\n",
    "    -------\n",
    "    results : list\n",
    "        The list of results from the function.\n",
    "    \"\"\"\n",
    "    with ThreadPoolExecutor(max_workers=no_threads) as executor:\n",
    "        results = list(tqdm(executor.map(func, iterable, *args), total=iterable_length, leave=False))\n",
    "    return results"
   ]
  },
  {
   "cell_type": "code",
   "execution_count": null,
   "metadata": {},
   "outputs": [],
   "source": [
    "def download_image(url, output_path):\n",
    "    \"\"\"Download an image from a URL and saves it to file.\n",
    "    \n",
    "    Parameters\n",
    "    ----------\n",
    "    url : str\n",
    "        The URL to download the image from.\n",
    "\n",
    "    output_path : str\n",
    "        The path to save the image to.\n",
    "    \"\"\"\n",
    "    response = requests.get(url)\n",
    "    if response.status_code == 200:\n",
    "        filename = url.split('/')[-1].split('?')[0]\n",
    "        with open(output_path, 'wb') as image:\n",
    "            image.write(response.content)\n",
    "    else:\n",
    "        print(f'Error downloading image from URL: {url}')\n",
    "\n",
    "    "
   ]
  },
  {
   "cell_type": "code",
   "execution_count": null,
   "metadata": {},
   "outputs": [],
   "source": [
    "def download_image_wrapper(args):\n",
    "    \"\"\"Wrapper function for downloading an image from a URL and saving it to file.\n",
    "    \n",
    "    Parameters\n",
    "    ----------\n",
    "    args : tuple\n",
    "        The tuple of arguments to pass to the download_image function.\n",
    "    \"\"\"\n",
    "    return download_image(*args)"
   ]
  },
  {
   "cell_type": "code",
   "execution_count": null,
   "metadata": {},
   "outputs": [],
   "source": [
    "data = pd.read_csv('instructor-content.csv')\n",
    "data = data.dropna(subset=['instructor_image_src'])\n"
   ]
  },
  {
   "cell_type": "code",
   "execution_count": null,
   "metadata": {},
   "outputs": [],
   "source": [
    "if os.path.exists(instructor_image_output_directory) == False:\n",
    "    os.mkdir(instructor_image_output_directory)"
   ]
  },
  {
   "cell_type": "code",
   "execution_count": null,
   "metadata": {},
   "outputs": [],
   "source": [
    "# create list of instructor ids using last part of instructor_page_url\n",
    "instructor_ids = [url.split('/')[-1] for url in data['instructor_page_url']]\n",
    "output_paths = [os.path.join(instructor_image_output_directory, instructor_id + '.jpg') for instructor_id in instructor_ids]"
   ]
  },
  {
   "cell_type": "code",
   "execution_count": null,
   "metadata": {},
   "outputs": [],
   "source": [
    "iterable = zip(data['instructor_image_src'].unique(), output_paths)\n",
    "ret = tqdm_threadpool_map(download_image_wrapper, iterable, 16, len(data))\n"
   ]
  },
  {
   "cell_type": "code",
   "execution_count": null,
   "metadata": {},
   "outputs": [],
   "source": [
    "# add instructor_ids to data and save \n",
    "data[\"instructor_image_name\"] = instructor_ids\n",
    "data.to_csv(\"instructor-content-with-image-names.csv\", index=False)"
   ]
  }
 ],
 "metadata": {
  "kernelspec": {
   "display_name": "coursera-review-scraper",
   "language": "python",
   "name": "python3"
  },
  "language_info": {
   "codemirror_mode": {
    "name": "ipython",
    "version": 3
   },
   "file_extension": ".py",
   "mimetype": "text/x-python",
   "name": "python",
   "nbconvert_exporter": "python",
   "pygments_lexer": "ipython3",
   "version": "3.9.12"
  },
  "orig_nbformat": 4,
  "vscode": {
   "interpreter": {
    "hash": "4832e1345590d4f22c6ca8cdb5d5a7eda8edea7cdaadb55e14f1e477976bcfdf"
   }
  }
 },
 "nbformat": 4,
 "nbformat_minor": 2
}
