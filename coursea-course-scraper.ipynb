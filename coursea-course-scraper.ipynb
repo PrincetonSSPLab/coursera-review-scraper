{
 "cells": [
  {
   "cell_type": "markdown",
   "metadata": {},
   "source": [
    "## Coursera Course Scraper\n",
    "\n",
    "Sends requests to Coursera and parses out course information using open public API endpoints"
   ]
  },
  {
   "cell_type": "code",
   "execution_count": 31,
   "metadata": {},
   "outputs": [
    {
     "name": "stderr",
     "output_type": "stream",
     "text": [
      "Enabling notebook extension jupyter-js-widgets/extension...\n",
      "      - Validating: ok\n"
     ]
    }
   ],
   "source": [
    "!jupyter nbextension enable --py widgetsnbextension"
   ]
  },
  {
   "cell_type": "code",
   "execution_count": 32,
   "metadata": {},
   "outputs": [],
   "source": [
    "import requests\n",
    "import logging\n",
    "import time\n",
    "import os\n",
    "\n",
    "import pandas as pd\n",
    "\n",
    "from bs4 import BeautifulSoup\n",
    "from concurrent.futures import ThreadPoolExecutor\n",
    "from tqdm import tqdm"
   ]
  },
  {
   "cell_type": "code",
   "execution_count": 33,
   "metadata": {},
   "outputs": [],
   "source": [
    "course_endpoint_url = \"https://www.coursera.org/api/courses.v1?q=slug&slug={}\"\n"
   ]
  },
  {
   "cell_type": "code",
   "execution_count": 34,
   "metadata": {},
   "outputs": [],
   "source": [
    "logger = logging.getLogger(__name__)\n",
    "logger.setLevel(logging.DEBUG)\n",
    "\n",
    "output_log_file_name = f\"{'coursera-courses'}-{time.strftime('%Y%m%d-%H%M%S')}.log\"\n",
    "file_path = os.path.join(os.getcwd(), \"logs\", output_log_file_name)\n",
    "fh = logging.FileHandler(file_path)\n",
    "fh.setLevel(logging.DEBUG)\n",
    "logger.addHandler(fh)"
   ]
  },
  {
   "cell_type": "code",
   "execution_count": 35,
   "metadata": {},
   "outputs": [],
   "source": [
    "def get_all_courses():\n",
    "    \"\"\"Get all course links from coursera\n",
    "\n",
    "    Returns\n",
    "    -------\n",
    "    courses : list\n",
    "        List of all course links.\n",
    "    \"\"\"\n",
    "    sitemap_url = \"https://www.coursera.org/sitemap~www~courses.xml\"\n",
    "    response = requests.get(sitemap_url)\n",
    "    if response.status_code != 200:\n",
    "        logging.error(\"Failed to get sitemap\")\n",
    "        return []\n",
    "    soup = BeautifulSoup(response.text, \"lxml\")\n",
    "    courses = [loc.text for loc in soup.find_all(\"loc\")]\n",
    "    return courses"
   ]
  },
  {
   "cell_type": "code",
   "execution_count": 36,
   "metadata": {},
   "outputs": [],
   "source": [
    "def get_slug(url):\n",
    "    \"\"\"Get slug from course url\n",
    "    \n",
    "    Parameters\n",
    "    ----------\n",
    "    url : str\n",
    "        Course url.\n",
    "        \n",
    "    Returns\n",
    "    -------\n",
    "    slug : str\n",
    "        Course slug.    \n",
    "    \"\"\"\n",
    "    return url.split(\"/\")[-1]"
   ]
  },
  {
   "cell_type": "code",
   "execution_count": 37,
   "metadata": {},
   "outputs": [],
   "source": [
    "def get_course_id(slug):\n",
    "    \"\"\"Get course id from course slug\n",
    "    \n",
    "    Parameters\n",
    "    ----------\n",
    "    slug : str\n",
    "        Course slug.\n",
    "        \n",
    "    Returns\n",
    "    -------\n",
    "    course_id : str\n",
    "        Course id.    \n",
    "    \"\"\"\n",
    "    response = requests.get(course_endpoint_url.format(slug))\n",
    "    if response.status_code != 200:\n",
    "        logging.error(\"Failed to get course id for slug: {}\".format(slug))\n",
    "        return None\n",
    "    course_id = response.json()[\"elements\"][0][\"id\"]\n",
    "    return course_id"
   ]
  },
  {
   "cell_type": "code",
   "execution_count": 38,
   "metadata": {},
   "outputs": [],
   "source": [
    "def tqdm_threadpool_map(func, iterable, no_threads, iterable_length, *args):\n",
    "    \"\"\"A threadpool map function that shows a progress bar.\n",
    "\n",
    "    Parameters\n",
    "    ----------\n",
    "    func : function\n",
    "        The function to apply to each element of the iterable.\n",
    "\n",
    "    iterable : iterable\n",
    "        The iterable to apply the function to.\n",
    "\n",
    "    no_threads : int\n",
    "        The number of threads to use.\n",
    "\n",
    "    iterable_length : int\n",
    "        The length of the iterable.\n",
    "\n",
    "    *args : list\n",
    "        The list of arguments to pass to the function.\n",
    "\n",
    "    Returns\n",
    "    -------\n",
    "    results : list\n",
    "        The list of results from the function.\n",
    "    \"\"\"\n",
    "    with ThreadPoolExecutor(max_workers=no_threads) as executor:\n",
    "        results = list(tqdm(executor.map(func, iterable, *args), total=iterable_length))\n",
    "    return results"
   ]
  },
  {
   "cell_type": "code",
   "execution_count": 39,
   "metadata": {},
   "outputs": [
    {
     "name": "stdout",
     "output_type": "stream",
     "text": [
      "Total courses:  6968\n"
     ]
    }
   ],
   "source": [
    "course_url = get_all_courses()\n",
    "print(\"Total courses: \", len(course_url))"
   ]
  },
  {
   "cell_type": "code",
   "execution_count": 40,
   "metadata": {},
   "outputs": [],
   "source": [
    "course_slug = [get_slug(url) for url in course_url]"
   ]
  },
  {
   "cell_type": "code",
   "execution_count": 41,
   "metadata": {},
   "outputs": [
    {
     "name": "stderr",
     "output_type": "stream",
     "text": [
      "  5%|▌         | 363/6968 [00:23<06:55, 15.91it/s] "
     ]
    }
   ],
   "source": [
    "course_id = tqdm_threadpool_map(get_course_id, course_slug, 4, len(course_slug))"
   ]
  }
 ],
 "metadata": {
  "kernelspec": {
   "display_name": "Python 3.9.12 ('coursera-review-scraper')",
   "language": "python",
   "name": "python3"
  },
  "language_info": {
   "codemirror_mode": {
    "name": "ipython",
    "version": 3
   },
   "file_extension": ".py",
   "mimetype": "text/x-python",
   "name": "python",
   "nbconvert_exporter": "python",
   "pygments_lexer": "ipython3",
   "version": "3.9.12"
  },
  "orig_nbformat": 4,
  "vscode": {
   "interpreter": {
    "hash": "4832e1345590d4f22c6ca8cdb5d5a7eda8edea7cdaadb55e14f1e477976bcfdf"
   }
  }
 },
 "nbformat": 4,
 "nbformat_minor": 2
}
