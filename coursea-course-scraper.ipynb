{
 "cells": [
  {
   "attachments": {},
   "cell_type": "markdown",
   "metadata": {},
   "source": [
    "## Gather All Coursera Courses\n",
    "\n"
   ]
  },
  {
   "cell_type": "code",
   "execution_count": 32,
   "metadata": {},
   "outputs": [],
   "source": [
    "import requests\n",
    "import bs4 as bs\n",
    "import json\n",
    "\n",
    "import pandas as pd\n",
    "\n",
    "from tqdm import tqdm\n",
    "from concurrent.futures import ThreadPoolExecutor"
   ]
  },
  {
   "cell_type": "code",
   "execution_count": 33,
   "metadata": {},
   "outputs": [],
   "source": [
    "# Get link to every course on Coursera assuming sitemap is complete and up-to-date.\n",
    "\n",
    "all_course_sitemap_link = \"https://www.coursera.org/sitemap~www~courses.xml\"\n",
    "request = requests.get(all_course_sitemap_link)\n",
    "soup = bs.BeautifulSoup(request.text, \"xml\")\n",
    "course_links = soup.find_all(\"loc\")\n",
    "course_links = [link.text for link in course_links]\n",
    "df = pd.DataFrame(course_links, columns=[\"course_link\"])"
   ]
  },
  {
   "cell_type": "code",
   "execution_count": 34,
   "metadata": {},
   "outputs": [],
   "source": [
    "# write links to csv. Clean by hand if necessary.\n",
    "\n",
    "df = df.drop_duplicates()\n",
    "df = df.sort_values(by=\"course_link\")\n",
    "df.to_csv(\"course_links.csv\", index=False)"
   ]
  },
  {
   "cell_type": "code",
   "execution_count": 35,
   "metadata": {},
   "outputs": [],
   "source": [
    "def get_course_slug(course_link):\n",
    "    \"\"\"Gets the course slug from a course link.\n",
    "    \n",
    "    Parameters\n",
    "    ----------\n",
    "    course_link : str\n",
    "        Link to a course on Coursera.\n",
    "        \n",
    "    Returns\n",
    "    -------\n",
    "    str\n",
    "        Course slug.\n",
    "    \"\"\"\n",
    "    page = course_link.split(\"/\")[-1]\n",
    "    slug = page.split(\"?\")[0]\n",
    "    return slug\n",
    "    \n"
   ]
  },
  {
   "cell_type": "code",
   "execution_count": 36,
   "metadata": {},
   "outputs": [],
   "source": [
    "def get_course_info(course_link):\n",
    "    \"\"\"Gets course information from a course link.\n",
    "    \n",
    "    Parameters\n",
    "    ----------\n",
    "    course_link : str\n",
    "        Link to a course on Coursera.\n",
    "        \n",
    "    Returns\n",
    "    -------\n",
    "    dict\n",
    "        Course information.\n",
    "    \"\"\"\n",
    "    \n",
    "    course_slug = get_course_slug(course_link)\n",
    "    course_info_link = f\"https://www.coursera.org/api/courses.v1?q=slug&slug={course_slug}\"\n",
    "    headers = {\n",
    "        \"user-agent\": \"Mozilla/5.0 (Windows NT 10.0; Win64; x64) AppleWebKit/537.36 (KHTML, like Gecko) Chrome/108.0.0.0 Safari/537.36\",\n",
    "    }\n",
    "    request = requests.get(course_info_link, headers=headers)\n",
    "    if request.status_code != 200:\n",
    "        raise Exception(f\"Request to {course_info_link} was not successful.\")\n",
    "    return request.json()"
   ]
  },
  {
   "cell_type": "code",
   "execution_count": 37,
   "metadata": {},
   "outputs": [],
   "source": [
    "def parse_course_name(course_info):\n",
    "    \"\"\"Parses course name from course information.\n",
    "    \n",
    "    Parameters\n",
    "    ----------\n",
    "    course_info : dict\n",
    "        Course information.\n",
    "        \n",
    "    Returns\n",
    "    -------\n",
    "    str\n",
    "        Course name.\n",
    "    \"\"\"\n",
    "    \n",
    "    return course_info[\"elements\"][0][\"name\"]"
   ]
  },
  {
   "cell_type": "code",
   "execution_count": 38,
   "metadata": {},
   "outputs": [],
   "source": [
    "def parse_course_id(course_info):\n",
    "    \"\"\"Parses course id from course information.\n",
    "    \n",
    "    Parameters\n",
    "    ----------\n",
    "    course_info : dict\n",
    "        Course information.\n",
    "        \n",
    "    Returns\n",
    "    -------\n",
    "    str\n",
    "        Course id.\n",
    "    \"\"\"\n",
    "    \n",
    "    return course_info[\"elements\"][0][\"id\"]"
   ]
  },
  {
   "cell_type": "code",
   "execution_count": 39,
   "metadata": {},
   "outputs": [],
   "source": [
    "def multithreaded_course_info(course_links):\n",
    "    \"\"\"Gets course information from a list of course links.\n",
    "    \n",
    "    Parameters\n",
    "    ----------\n",
    "    course_links : list\n",
    "        List of course links.\n",
    "        \n",
    "    Returns\n",
    "    -------\n",
    "    list\n",
    "        List of course information.\n",
    "    \"\"\"\n",
    "    with ThreadPoolExecutor(max_workers=10) as executor:\n",
    "        course_info = list(tqdm(executor.map(get_course_info, course_links), total=len(course_links)))\n",
    "    \n",
    "    return course_info"
   ]
  },
  {
   "cell_type": "code",
   "execution_count": 40,
   "metadata": {},
   "outputs": [
    {
     "name": "stderr",
     "output_type": "stream",
     "text": [
      " 14%|█▍        | 950/6568 [01:17<08:47, 10.65it/s]"
     ]
    }
   ],
   "source": [
    "df = pd.read_csv(\"cleaned_course_links.csv\")\n",
    "course_links = df[\"course_link\"].tolist()\n",
    "course_info = multithreaded_course_info(course_links)\n"
   ]
  }
 ],
 "metadata": {
  "kernelspec": {
   "display_name": "Python 3.9.12 ('coursera-review-scraper')",
   "language": "python",
   "name": "python3"
  },
  "language_info": {
   "codemirror_mode": {
    "name": "ipython",
    "version": 3
   },
   "file_extension": ".py",
   "mimetype": "text/x-python",
   "name": "python",
   "nbconvert_exporter": "python",
   "pygments_lexer": "ipython3",
   "version": "3.9.12"
  },
  "orig_nbformat": 4,
  "vscode": {
   "interpreter": {
    "hash": "4832e1345590d4f22c6ca8cdb5d5a7eda8edea7cdaadb55e14f1e477976bcfdf"
   }
  }
 },
 "nbformat": 4,
 "nbformat_minor": 2
}
