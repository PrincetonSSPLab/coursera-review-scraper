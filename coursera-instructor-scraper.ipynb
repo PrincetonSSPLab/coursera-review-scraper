{
 "cells": [
  {
   "attachments": {},
   "cell_type": "markdown",
   "metadata": {},
   "source": [
    "## Coursera Instructor Scraper\n",
    "\n",
    "Sends requests to Coursera and parses out instructor information."
   ]
  },
  {
   "cell_type": "code",
   "execution_count": 128,
   "metadata": {},
   "outputs": [],
   "source": [
    "import requests\n",
    "import pandas as pd\n",
    "import logging\n",
    "import time\n",
    "import os\n",
    "\n",
    "from bs4 import BeautifulSoup\n",
    "from concurrent.futures import ThreadPoolExecutor\n",
    "from tqdm import tqdm"
   ]
  },
  {
   "cell_type": "code",
   "execution_count": 129,
   "metadata": {},
   "outputs": [],
   "source": [
    "logger = logging.getLogger(__name__)\n",
    "logger.setLevel(logging.INFO)\n",
    "\n",
    "output_log_file_name = f\"{'coursera-instructors'}-{time.strftime('%Y%m%d-%H%M%S')}.log\"\n",
    "file_path = os.path.join(os.getcwd(), \"logs\", output_log_file_name)\n",
    "fh = logging.FileHandler(file_path)\n",
    "fh.setLevel(logging.DEBUG)\n",
    "logger.addHandler(fh)"
   ]
  },
  {
   "cell_type": "code",
   "execution_count": 130,
   "metadata": {},
   "outputs": [],
   "source": [
    "all_instructor_sitemap_link = \"https://www.coursera.org/sitemap~www~instructors.xml\"\n",
    "request = requests.get(all_instructor_sitemap_link)\n",
    "soup = BeautifulSoup(request.content, \"xml\")\n",
    "instructor_links = soup.find_all(\"loc\")\n",
    "instructor_pages = [link.text for link in instructor_links]\n",
    "df = pd.DataFrame(instructor_pages, columns=[\"instructor_page\"])\n"
   ]
  },
  {
   "cell_type": "code",
   "execution_count": 131,
   "metadata": {},
   "outputs": [],
   "source": [
    "def parse_instructor_page(url):\n",
    "    \"\"\"Parse instructor page and return a dictionary of instructor info.\n",
    "    \n",
    "    Parameters\n",
    "    ----------\n",
    "    url : str\n",
    "        Instructor page url.\n",
    "        \n",
    "    Returns\n",
    "    -------\n",
    "    dict\n",
    "        Dictionary of instructor info. \n",
    "    \"\"\"\n",
    "    headers = {\n",
    "        \"User-Agent\": \"Mozilla/5.0 (Macintosh; Intel Mac OS X 10_15_7) AppleWebKit/537.36 (KHTML, like Gecko) Chrome/91.0.4472.114 Safari/537.36\"\n",
    "    }\n",
    "    request = requests.get(url, headers=headers)\n",
    "    soup = BeautifulSoup(request.content, \"html.parser\")\n",
    "\n",
    "    instructor_selector = \"#rendered-content > div > div > div:nth-child(2) > div.max-width-980.m-t-3.m-b-0.m-x-auto.css-8hlpsv > div.cds-63.p-b-2.css-0.cds-64 > div.cds-63.grid-item.css-0.cds-65.cds-grid-item.cds-110.cds-119.cds-132 > h2\"\n",
    "    instructor_subheading = \"#rendered-content > div > div > div:nth-child(2) > div.max-width-980.m-t-3.m-b-0.m-x-auto.css-8hlpsv > div.cds-63.p-b-2.css-0.cds-64 > div.cds-63.grid-item.css-0.cds-65.cds-grid-item.cds-110.cds-119.cds-132 > p\"\n",
    "    instructor_external_link_selector = \"#rendered-content > div > div > div:nth-child(2) > div.max-width-980.m-t-3.m-b-0.m-x-auto.css-8hlpsv > div.cds-63.p-b-2.css-0.cds-64 > div.cds-63.grid-item.css-0.cds-65.cds-grid-item.cds-110.cds-119.cds-132 > ul > li > a\"\n",
    "    instructor_image_selector = \"#rendered-content > div > div > div:nth-child(2) > div.max-width-980.m-t-3.m-b-0.m-x-auto.css-8hlpsv > div.cds-63.p-b-2.css-0.cds-64 > div.cds-63.grid-item.css-0.cds-65.cds-grid-item.cds-110.cds-117.cds-129 > img\"\n",
    "    instructor_courses_wrapper_selector = \"#rendered-content > div > div > div:nth-child(2) > div.max-width-980.m-t-3.m-b-0.m-x-auto.css-8hlpsv > div.cds-63.p-t-2.m-t-2.border-top.css-0.cds-64 > div > div\"\n",
    "\n",
    "\n",
    "    instructor_name = soup.select_one(instructor_selector)\n",
    "    instructor_name = instructor_name.text if instructor_name else None\n",
    "\n",
    "    instructor_subheading = soup.select_one(instructor_subheading)\n",
    "    instructor_subheading = instructor_subheading.text if instructor_subheading else None\n",
    "\n",
    "    instructor_external_link_href = soup.select_one(instructor_external_link_selector)\n",
    "    instructor_external_link_href = instructor_external_link_href.get(\"href\") if instructor_external_link_href else None\n",
    "\n",
    "    instructor_external_link_text = soup.select_one(instructor_external_link_selector)\n",
    "    instructor_external_link_text = instructor_external_link_text.text if instructor_external_link_text else None\n",
    "\n",
    "    instructor_image_src = soup.select_one(instructor_image_selector)\n",
    "    instructor_image_src = instructor_image_src.get(\"src\") if instructor_image_src else None\n",
    "\n",
    "    course_link_selector = \"#instructors-course-card\"\n",
    "    course_name_selector = \"#instructors-course-card > div > div._10ytpvl5 > h4 > div > div\"\n",
    "    instructor_courses = []\n",
    "    for course in soup.select_one(instructor_courses_wrapper_selector).children:\n",
    "        course_name = course.select_one(course_name_selector).text\n",
    "        course_link = course.select_one(course_link_selector).get(\"href\")\n",
    "        course_slug = course_link.split(\"/\")[-1]\n",
    "        course_slug = course_slug.split(\"?\")[0]\n",
    "        instructor_courses.append({\"course_name\": course_name, \"course_slug\": course_slug})\n",
    "\n",
    "    return {\n",
    "        \"instructor_name\": instructor_name,\n",
    "        \"instructor_subheading\": instructor_subheading,\n",
    "        \"instructor_external_link_href\": instructor_external_link_href,\n",
    "        \"instructor_external_link_text\": instructor_external_link_text,\n",
    "        \"instructor_image_src\": instructor_image_src,\n",
    "        \"instructor_courses\": instructor_courses,\n",
    "        \"url\": url,\n",
    "    }\n"
   ]
  },
  {
   "cell_type": "code",
   "execution_count": 132,
   "metadata": {},
   "outputs": [],
   "source": [
    "def pivot_to_course(instructor_info):\n",
    "    \"\"\"Convert data to list where each element is a dictionary of info for each course.\n",
    "    \n",
    "    Parameters\n",
    "    ----------\n",
    "    instructor_info : dict\n",
    "        Dictionary of instructor info.\n",
    "        \n",
    "    Returns\n",
    "    -------\n",
    "    list\n",
    "        List of course info dictionaries.\n",
    "    \"\"\"\n",
    "    instructor_courses = []\n",
    "    for course in instructor_info[\"instructor_courses\"]:\n",
    "        instructor_courses.append(\n",
    "            {\n",
    "                \"instructor_name\": instructor_info[\"instructor_name\"],\n",
    "                \"instructor_subheading\": instructor_info[\"instructor_subheading\"],\n",
    "                \"instructor_external_link_href\": instructor_info[\"instructor_external_link_href\"],\n",
    "                \"instructor_external_link_text\": instructor_info[\"instructor_external_link_text\"],\n",
    "                \"instructor_image_src\": instructor_info[\"instructor_image_src\"],\n",
    "                \"instructor_page_url\": instructor_info[\"url\"],\n",
    "                \"course_name\": course[\"course_name\"],\n",
    "                \"course_slug\": course[\"course_slug\"],\n",
    "            }\n",
    "        )\n",
    "    return instructor_courses"
   ]
  },
  {
   "cell_type": "code",
   "execution_count": 133,
   "metadata": {},
   "outputs": [],
   "source": [
    "def tqdm_threadpool_map(func, iterable, no_threads, iterable_length, *args):\n",
    "    \"\"\"A threadpool map function that shows a progress bar.\n",
    "\n",
    "    Parameters\n",
    "    ----------\n",
    "    func : function\n",
    "        The function to apply to each element of the iterable.\n",
    "\n",
    "    iterable : iterable\n",
    "        The iterable to apply the function to.\n",
    "\n",
    "    no_threads : int\n",
    "        The number of threads to use.\n",
    "\n",
    "    iterable_length : int\n",
    "        The length of the iterable.\n",
    "\n",
    "    *args : list\n",
    "        The list of arguments to pass to the function.\n",
    "\n",
    "    Returns\n",
    "    -------\n",
    "    results : list\n",
    "        The list of results from the function.\n",
    "    \"\"\"\n",
    "    with ThreadPoolExecutor(max_workers=no_threads) as executor:\n",
    "        results = list(tqdm(executor.map(func, iterable, *args), total=iterable_length))\n",
    "    return results"
   ]
  },
  {
   "cell_type": "code",
   "execution_count": 134,
   "metadata": {},
   "outputs": [],
   "source": [
    "def get_instructor_info(url):\n",
    "    \"\"\"Get instructor info from a url.\n",
    "\n",
    "    Parameters\n",
    "    ----------\n",
    "    url : str\n",
    "        The url to scrape.\n",
    "\n",
    "    Returns\n",
    "    -------\n",
    "    instructor_info : list\n",
    "        List of course info dictionaries.\n",
    "    \"\"\"\n",
    "    try:\n",
    "        instructor_info = parse_instructor_page(url)\n",
    "        instructor_info = pivot_to_course(instructor_info)\n",
    "        return instructor_info\n",
    "    except Exception as e:\n",
    "        logging.error(f\"Error getting instructor info from {url}: {e}\")\n",
    "        return []\n"
   ]
  },
  {
   "cell_type": "code",
   "execution_count": 135,
   "metadata": {},
   "outputs": [
    {
     "name": "stderr",
     "output_type": "stream",
     "text": [
      "  6%|▌         | 309/5466 [02:32<38:25,  2.24it/s]  ERROR:root:Error getting instructor info from https://www.coursera.org/instructor/~28762407: 'NoneType' object has no attribute 'children'\n",
      "  9%|▊         | 466/5466 [03:53<36:31,  2.28it/s]  ERROR:root:Error getting instructor info from https://www.coursera.org/instructor/38926: 'NoneType' object has no attribute 'children'\n",
      " 15%|█▍        | 793/5466 [06:20<33:40,  2.31it/s]  ERROR:root:Error getting instructor info from https://www.coursera.org/instructor/unity3d: 'NoneType' object has no attribute 'children'\n",
      " 20%|█▉        | 1089/5466 [08:58<43:26,  1.68it/s]  ERROR:root:Error getting instructor info from https://www.coursera.org/instructor/~1702251: 'NoneType' object has no attribute 'children'\n",
      " 48%|████▊     | 2637/5466 [23:02<25:03,  1.88it/s]  ERROR:root:Error getting instructor info from https://www.coursera.org/instructor/podolskii: 'NoneType' object has no attribute 'children'\n",
      "100%|██████████| 5466/5466 [48:19<00:00,  1.89it/s]\n"
     ]
    }
   ],
   "source": [
    "# # use multithreading to get all the insturctor info\n",
    "# iterable = df[\"instructor_page\"].tolist()\n",
    "# no_threads = 10\n",
    "# iterable_length = len(iterable)\n",
    "# instructor_info = tqdm_threadpool_map(get_instructor_info, iterable, no_threads, iterable_length)\n",
    "\n",
    "links = df[\"instructor_page\"].tolist()\n",
    "instructor_info = []\n",
    "for link in tqdm(links):\n",
    "    logging.info(f\"Getting instructor info from {link}\")\n",
    "    info = get_instructor_info(link)\n",
    "    instructor_info.extend(info)\n",
    "\n",
    "\n",
    "    \n"
   ]
  },
  {
   "cell_type": "code",
   "execution_count": 137,
   "metadata": {},
   "outputs": [],
   "source": [
    "instructor_info = pd.DataFrame(instructor_info)\n",
    "instructor_info.to_csv(\"instructor_info.csv\", index=False)"
   ]
  }
 ],
 "metadata": {
  "kernelspec": {
   "display_name": "coursera-review-scraper",
   "language": "python",
   "name": "python3"
  },
  "language_info": {
   "codemirror_mode": {
    "name": "ipython",
    "version": 3
   },
   "file_extension": ".py",
   "mimetype": "text/x-python",
   "name": "python",
   "nbconvert_exporter": "python",
   "pygments_lexer": "ipython3",
   "version": "3.9.12"
  },
  "orig_nbformat": 4,
  "vscode": {
   "interpreter": {
    "hash": "4832e1345590d4f22c6ca8cdb5d5a7eda8edea7cdaadb55e14f1e477976bcfdf"
   }
  }
 },
 "nbformat": 4,
 "nbformat_minor": 2
}
